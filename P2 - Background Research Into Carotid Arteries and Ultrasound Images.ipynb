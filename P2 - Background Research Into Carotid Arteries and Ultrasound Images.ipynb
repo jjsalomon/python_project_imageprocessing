{
 "cells": [
  {
   "cell_type": "markdown",
   "metadata": {
    "collapsed": true
   },
   "source": [
    "Here in this post I will discuss the background research that i have done prior to development.\n",
    "\n",
    "Just before this project I have no idea what a carotid artery is so prior reading was essential into understanding the problem domain.\n",
    "\n",
    "<h3> Carotid Arties </h3>\n",
    "\n",
    "According to WebMD:\n",
    "\n",
    "\"Carotid Arteries are major blood vessels in the neck that supply blood to the brain, neck and face. There are two carotid arteries, one on the right and one on the left. Each one of these carotid arteries branches into two divisions\""
   ]
  },
  {
   "cell_type": "markdown",
   "metadata": {},
   "source": [
    "![Carotid Artery Image](carotid_artery.jpg \"Carotid Artery\")"
   ]
  },
  {
   "cell_type": "markdown",
   "metadata": {},
   "source": [
    "Apparently the carotid artery branches into two divisions \"internal\" and \"external\" because they supply blood to different regions to the head.\n",
    "\n",
    "    1.The internal carotid artery supplies blood to the brain\n",
    "    2.The external carotid artery supplies blood to the face and neck."
   ]
  },
  {
   "cell_type": "markdown",
   "metadata": {},
   "source": [
    "Like all other arteries, the carotid is made of 3 layers of tissue:\n",
    "\n",
    "    1. The \"Intima\", the smooth innermost layer\n",
    "    2. The \"Media\", the muscular middle layer\n",
    "    3. The \"Adventitia\", the outer layer"
   ]
  },
  {
   "cell_type": "markdown",
   "metadata": {},
   "source": [
    "![Carotid Artery Layers Image](artery_layers.jpg \"Artery Layers\")"
   ]
  },
  {
   "cell_type": "markdown",
   "metadata": {},
   "source": [
    "<h3> Ultrasound Images </h3>\n",
    "\n",
    "According to fda.gov:\n",
    "\n",
    "\"Ultrasound imaging also known as \"sonography\" uses high-frequency sound waves to view inside the body. Images are captured in real time so they can show movement in the body's internal organs as well as <b> blood flow through the blood vessels</b>\n",
    "\n",
    "Unlike X-ray imaging there is no ionizing radiation exposure associated with ultrasound imaging\""
   ]
  },
  {
   "cell_type": "markdown",
   "metadata": {},
   "source": [
    "![Ultrasound Exam](ultrasound_exam.jpg \"Ultrasound Exam\")"
   ]
  },
  {
   "cell_type": "markdown",
   "metadata": {},
   "source": [
    "In ultrasound exams, a gel is applied to the skin so that the ultrasound waves are transmitted into a \"transducer\" through the gel into the body.\n",
    "\n",
    "The ultrasound image is then produced based on the reflection from the waves off the body structures."
   ]
  },
  {
   "cell_type": "markdown",
   "metadata": {},
   "source": [
    "![Transducer](transducer.jpg \"Transducer Probe\")"
   ]
  },
  {
   "cell_type": "markdown",
   "metadata": {},
   "source": [
    "To form an ultrasound image, the scanner must determine:\n",
    "    1. How long it took the echo to be received when the sound was transmitted\n",
    "    2. How strong the echo was\n",
    "    \n",
    "Once the ultrasonics scanner has determined these two things, it can locate which pixel to light up and to what intensity to provide an image like this"
   ]
  },
  {
   "cell_type": "markdown",
   "metadata": {},
   "source": [
    "![Ultrasound Baby](ultrasound_baby.jpg \"Ultrasound Baby\")"
   ]
  }
 ],
 "metadata": {
  "kernelspec": {
   "display_name": "Python 2",
   "language": "python",
   "name": "python2"
  },
  "language_info": {
   "codemirror_mode": {
    "name": "ipython",
    "version": 2
   },
   "file_extension": ".py",
   "mimetype": "text/x-python",
   "name": "python",
   "nbconvert_exporter": "python",
   "pygments_lexer": "ipython2",
   "version": "2.7.13"
  }
 },
 "nbformat": 4,
 "nbformat_minor": 2
}
