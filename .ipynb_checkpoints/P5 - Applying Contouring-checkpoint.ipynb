{
 "cells": [
  {
   "cell_type": "markdown",
   "metadata": {},
   "source": [
    "This week were going to look at Contours...I've performed my research based on OpenCV Documentation and the paper: <i>Contour Detection and Hierarchical Image by Segmentation written by Pablo Arbelaez, Michael Maire, Charless Fowlkes and Jitendra Malik</i>\n",
    "\n",
    "<h3> What are contours ? </h3>\n",
    "\n",
    "<i>\"Contours can be explained simply as a curve joining all the continuous points (along the boundary), having same color or intensity. The contours are a useful tool for shape analysis and object detection and recognition.\"</i>[2]\n",
    "\n",
    "![Contour Image](contours_example.jpg \"Contour\") [1]"
   ]
  },
  {
   "cell_type": "code",
   "execution_count": 2,
   "metadata": {},
   "outputs": [
    {
     "data": {
      "text/plain": [
       "True"
      ]
     },
     "execution_count": 2,
     "metadata": {},
     "output_type": "execute_result"
    }
   ],
   "source": [
    "import numpy as np\n",
    "import cv2\n",
    "import matplotlib.pyplot as plt\n",
    "%matplotlib inline\n",
    "\n",
    "carotid_img = cv2.imread(\"Carotid.jpg\" )\n",
    "HSV = cv2.cvtColor(carotid_img, cv2.COLOR_BGR2HSV)\n",
    "HSV =  cv2.cvtColor(HSV, cv2.COLOR_BGR2RGB)\n",
    "\n",
    "#Create the ranges of the mask\n",
    "lower = np.array([130, 5,0])\n",
    "upper = np.array([255,255,255])\n",
    "\n",
    "#make mask\n",
    "mask_img = cv2.inRange(HSV, lower, upper)\n",
    "\n",
    "img,contours, hierachery = cv2.findContours(mask_img,mode=cv2.RETR_EXTERNAL,method=cv2.CHAIN_APPROX_NONE)\n",
    "carotid_img = cv2.drawContours(carotid_img, contours, contourIdx=-1, color=(0,0,255), thickness=1)\n",
    "\n",
    "cv2.imwrite(\"contour.jpg\", carotid_img)"
   ]
  },
  {
   "cell_type": "markdown",
   "metadata": {},
   "source": [
    "![Contour](contour.jpg)"
   ]
  },
  {
   "cell_type": "markdown",
   "metadata": {},
   "source": [
    "<h3>References</h3>\n",
    "\n",
    "[1]Arbeláez, P., Maire, M., Fowlkes, C. and Malik, J. (2011). Contour Detection and Hierarchical Image Segmentation. IEEE Transactions on Pattern Analysis and Machine Intelligence, 33(5), pp.898-916.\n",
    "\n",
    "[2]Opencv-python-tutroals.readthedocs.io. (2017). Contours in OpenCV — OpenCV-Python Tutorials 1 documentation. [online] Available at: http://opencv-python-tutroals.readthedocs.io/en/latest/py_tutorials/py_imgproc/py_contours/py_table_of_contents_contours/py_table_of_contents_contours.html [Accessed 23 Oct. 2017]."
   ]
  }
 ],
 "metadata": {
  "kernelspec": {
   "display_name": "Python 3",
   "language": "python",
   "name": "python3"
  },
  "language_info": {
   "codemirror_mode": {
    "name": "ipython",
    "version": 3
   },
   "file_extension": ".py",
   "mimetype": "text/x-python",
   "name": "python",
   "nbconvert_exporter": "python",
   "pygments_lexer": "ipython3",
   "version": "3.5.3"
  }
 },
 "nbformat": 4,
 "nbformat_minor": 2
}
