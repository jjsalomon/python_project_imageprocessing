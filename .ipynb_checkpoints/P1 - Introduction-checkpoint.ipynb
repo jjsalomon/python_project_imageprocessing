{
 "cells": [
  {
   "cell_type": "markdown",
   "metadata": {},
   "source": [
    "Hello ! My name is Jelo Salomon and this is my Image Processing Project Blog.\n",
    "\n",
    "This blog is part of my Image Processing module where I explain my thought process and experiments into creating my Image Processing project.\n",
    "\n",
    "So what is my project ? \n",
    "\n",
    "My project is to identify the boundary of blood vessels in a given ultrasound image."
   ]
  },
  {
   "cell_type": "markdown",
   "metadata": {},
   "source": [
    "![alt text](download.jpg \"Blood Vessel\")"
   ]
  },
  {
   "cell_type": "markdown",
   "metadata": {},
   "source": [
    "I am part of a 3 man team to build this project.\n",
    "\n",
    "My team members are:\n",
    "    - Adam Tonge\n",
    "    - Andrew Cosgrave Lyons\n",
    "    \n",
    "and our lecturer/mentor is Dr.Jane Courtney\n"
   ]
  },
  {
   "cell_type": "markdown",
   "metadata": {},
   "source": [
    "Together we've discussed the scope of this project and brainstormed different ideas into how to successfuly deliver this project.\n",
    "\n",
    "We intend to demonstrate many Image Processing techniques that we will be learning throughout the module to achieve this and build it into an application tool where users can load ultra sound blood vessel images to automatically find the blood vessel boundaries.\n",
    "\n",
    "The technologies we will be using are the following:\n",
    "    - Python\n",
    "    - OpenCV\n",
    "    - GUI Library like Tkinter, Easygui, Kivy or PyQt"
   ]
  },
  {
   "cell_type": "markdown",
   "metadata": {},
   "source": [
    "![alt text](technologies.jpg \"Technologies\")"
   ]
  },
  {
   "cell_type": "code",
   "execution_count": null,
   "metadata": {
    "collapsed": true
   },
   "outputs": [],
   "source": []
  }
 ],
 "metadata": {
  "kernelspec": {
   "display_name": "Python 3",
   "language": "python",
   "name": "python3"
  },
  "language_info": {
   "codemirror_mode": {
    "name": "ipython",
    "version": 3
   },
   "file_extension": ".py",
   "mimetype": "text/x-python",
   "name": "python",
   "nbconvert_exporter": "python",
   "pygments_lexer": "ipython3",
   "version": "3.6.1"
  }
 },
 "nbformat": 4,
 "nbformat_minor": 2
}
