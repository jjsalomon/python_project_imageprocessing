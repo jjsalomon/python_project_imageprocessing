{
 "cells": [
  {
   "cell_type": "markdown",
   "metadata": {},
   "source": [
    "Last blog my team and I looked at how to get contours for the carotid artery. In this blog we we will look at how to get the center point."
   ]
  },
  {
   "cell_type": "code",
   "execution_count": 5,
   "metadata": {},
   "outputs": [
    {
     "data": {
      "text/plain": [
       "True"
      ]
     },
     "execution_count": 5,
     "metadata": {},
     "output_type": "execute_result"
    }
   ],
   "source": [
    "import numpy as np\n",
    "import cv2\n",
    "import matplotlib.pyplot as plt\n",
    "%matplotlib inline\n",
    "\n",
    "carotid_img = cv2.imread(\"Carotid.jpg\" )\n",
    "\n",
    "#Create the ranges of the mask\n",
    "HSV = cv2.cvtColor(carotid_img, cv2.COLOR_BGR2HSV)\n",
    "#Create a lower and upper range\n",
    "#Create a lower and upper range\n",
    "lower = np.array([0,141,39])\n",
    "upper = np.array([87,255,255])\n",
    "\n",
    "#make mask\n",
    "mask_img = cv2.inRange(HSV, lower, upper)\n",
    "\n",
    "img,contours, hierachery = cv2.findContours(mask_img,mode=cv2.RETR_EXTERNAL,method=cv2.CHAIN_APPROX_NONE)\n",
    "carotid_img = cv2.drawContours(carotid_img, contours, contourIdx=-1, color=(0,255,255), thickness=1)\n",
    "\n",
    "cv2.imwrite(\"contour2.jpg\", carotid_img)"
   ]
  },
  {
   "cell_type": "markdown",
   "metadata": {},
   "source": [
    "![Contour](contour2.jpg)"
   ]
  },
  {
   "cell_type": "markdown",
   "metadata": {},
   "source": [
    "We can clean this up a little bit more to extract the boundary."
   ]
  },
  {
   "cell_type": "code",
   "execution_count": 6,
   "metadata": {},
   "outputs": [
    {
     "data": {
      "text/plain": [
       "True"
      ]
     },
     "execution_count": 6,
     "metadata": {},
     "output_type": "execute_result"
    }
   ],
   "source": [
    "c = max(contours, key = cv2.contourArea)\n",
    "c_img = cv2.drawContours(carotid_img, c, contourIdx=-1, color=(0,255,255), thickness=2)\n",
    "cv2.imwrite('contour3.jpg',c_img)"
   ]
  },
  {
   "cell_type": "markdown",
   "metadata": {},
   "source": [
    "![Contour](contour3.jpg)"
   ]
  },
  {
   "cell_type": "markdown",
   "metadata": {},
   "source": [
    "Next we use moments to create the center point, According to OpenCV documentation[1] on moments that it \"Calculates all of the moments up to the third order of a polygon or rasterized shape\". We can use this to find the central point of our contours using the mathematical formulae."
   ]
  },
  {
   "cell_type": "markdown",
   "metadata": {},
   "source": [
    "![moments](moments.jpg)"
   ]
  },
  {
   "cell_type": "code",
   "execution_count": 15,
   "metadata": {},
   "outputs": [
    {
     "data": {
      "text/plain": [
       "True"
      ]
     },
     "execution_count": 15,
     "metadata": {},
     "output_type": "execute_result"
    }
   ],
   "source": [
    "moments = cv2.moments(c) \n",
    "cx = int(moments['m10']/moments['m00']) \n",
    "cy = int(moments['m01']/moments['m00']) \n",
    "\n",
    "cv2.circle(c_img, (cx, cy), 3, (255, 255, 255), -1) \n",
    "cv2.imwrite(\"centerpoint.jpg\",c_img)"
   ]
  },
  {
   "cell_type": "markdown",
   "metadata": {},
   "source": [
    "![CenterPoint](centerpoint.jpg)"
   ]
  },
  {
   "cell_type": "markdown",
   "metadata": {},
   "source": [
    "References\n",
    "\n",
    "[1] Docs.opencv.org. (2017). Structural Analysis and Shape Descriptors — OpenCV 2.4.13.4 documentation. [online] Available at: https://docs.opencv.org/2.4/modules/imgproc/doc/structural_analysis_and_shape_descriptors.html [Accessed 19 Nov. 2017]."
   ]
  }
 ],
 "metadata": {
  "kernelspec": {
   "display_name": "Python 3",
   "language": "python",
   "name": "python3"
  },
  "language_info": {
   "codemirror_mode": {
    "name": "ipython",
    "version": 3
   },
   "file_extension": ".py",
   "mimetype": "text/x-python",
   "name": "python",
   "nbconvert_exporter": "python",
   "pygments_lexer": "ipython3",
   "version": "3.5.3"
  }
 },
 "nbformat": 4,
 "nbformat_minor": 2
}
