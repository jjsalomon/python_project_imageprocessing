{
 "cells": [
  {
   "cell_type": "markdown",
   "metadata": {},
   "source": [
    "Last post we looked at how to gain the inner boundary and center point of the carotid artery using contours and moments and In this post we will look at how to extract the outer boundary. First we load up all the code from the last post"
   ]
  },
  {
   "cell_type": "code",
   "execution_count": 17,
   "metadata": {},
   "outputs": [
    {
     "data": {
      "text/plain": [
       "True"
      ]
     },
     "execution_count": 17,
     "metadata": {},
     "output_type": "execute_result"
    }
   ],
   "source": [
    "import numpy as np\n",
    "import cv2\n",
    "import matplotlib.pyplot as plt\n",
    "import math\n",
    "%matplotlib inline\n",
    "\n",
    "I = cv2.imread(\"carotid.jpg\")\n",
    "carotid_img = cv2.imread(\"Carotid.jpg\" )\n",
    "copy = cv2.imread(\"Carotid.jpg\" )\n",
    "\n",
    "#Create the ranges of the mask\n",
    "HSV = cv2.cvtColor(carotid_img, cv2.COLOR_BGR2HSV)\n",
    "#Create a lower and upper range\n",
    "#Create a lower and upper range\n",
    "lower = np.array([0,141,39])\n",
    "upper = np.array([87,255,255])\n",
    "#make mask\n",
    "mask_img = cv2.inRange(HSV, lower, upper)\n",
    "img,contours, hierachery = cv2.findContours(mask_img,mode=cv2.RETR_EXTERNAL,method=cv2.CHAIN_APPROX_NONE)\n",
    "carotid_img = cv2.drawContours(carotid_img, contours, contourIdx=-1, color=(0,255,255), thickness=1)\n",
    "c = max(contours, key = cv2.contourArea)\n",
    "c_img = cv2.drawContours(carotid_img, c, contourIdx=-1, color=(0,255,255), thickness=2)\n",
    "moments = cv2.moments(c) \n",
    "cx = int(moments['m10']/moments['m00']) \n",
    "cy = int(moments['m01']/moments['m00']) \n",
    "cv2.circle(c_img, (cx, cy), 3, (255, 255, 255), -1) \n",
    "\n",
    "cv2.imwrite(\"contour.jpg\",c_img)"
   ]
  },
  {
   "cell_type": "markdown",
   "metadata": {},
   "source": [
    "![contour](contour.jpg)"
   ]
  },
  {
   "cell_type": "markdown",
   "metadata": {},
   "source": [
    "We get a new mask using these configurations on HSV"
   ]
  },
  {
   "cell_type": "code",
   "execution_count": null,
   "metadata": {
    "collapsed": true
   },
   "outputs": [],
   "source": [
    "#we have the center point now mak a mask that only gets the external in\n",
    "HSVlower = np.array([0,0,14])\n",
    "HSVupper = np.array([179,35,255])\n",
    "\n",
    "\n",
    "#define a mask of the artery\n",
    "ExternalMask = cv2.inRange(HSV , HSVlower , HSVupper)\n",
    "pointsOnBoundary =[]\n",
    "cv2.imwrite(\"externalmask.jpg\",ExternalMask)"
   ]
  },
  {
   "cell_type": "markdown",
   "metadata": {},
   "source": [
    "![externalmask](externalmask.jpg)"
   ]
  },
  {
   "cell_type": "markdown",
   "metadata": {},
   "source": [
    "We use the center point to produce radial lines using this algorithm. With help of this stack overflow answer:http://answers.opencv.org/question/56095/draw-lines-from-centroid-of-contour-at-given-angle-till-edge-of-contour/"
   ]
  },
  {
   "cell_type": "code",
   "execution_count": 18,
   "metadata": {},
   "outputs": [
    {
     "data": {
      "text/plain": [
       "True"
      ]
     },
     "execution_count": 18,
     "metadata": {},
     "output_type": "execute_result"
    }
   ],
   "source": [
    "angle =1;\n",
    "length = 1\n",
    "while angle<=360:\n",
    "    #Following 2 lines adapted from\n",
    "    p2x = int (cx + length * math.cos(angle * 3.14 / 180.0))\n",
    "    p2yy = int (cy + length * math.sin(angle * 3.14 / 180.0))\n",
    "\n",
    "    #if NOT its a black pxel\n",
    "    if ExternalMask[p2yy , p2x] > 0:\n",
    "        pt2 = (p2x, p2yy)\n",
    "        cv2.line(img=I, pt1=(cx, cy), pt2=pt2, color=(255,255,0), thickness=1)\n",
    "        cv2.circle(copy,(p2x, p2yy), 1,(0, 255, 255),-1)\n",
    "        angle = angle + 2\n",
    "        length = 2\n",
    "        pointsOnBoundary.append(pt2)\n",
    "    else:\n",
    "        length = length + 2\n",
    "cv2.imwrite(\"radial2.jpg\",I)\n",
    "cv2.imwrite(\"circcle.jpg\",copy)"
   ]
  },
  {
   "cell_type": "markdown",
   "metadata": {},
   "source": [
    "![radiallines](radial2.jpg)"
   ]
  },
  {
   "cell_type": "markdown",
   "metadata": {},
   "source": [
    "![circle](circcle.jpg)"
   ]
  },
  {
   "cell_type": "markdown",
   "metadata": {},
   "source": [
    "Looks good, now we draw the lines."
   ]
  },
  {
   "cell_type": "code",
   "execution_count": 20,
   "metadata": {},
   "outputs": [
    {
     "data": {
      "text/plain": [
       "True"
      ]
     },
     "execution_count": 20,
     "metadata": {},
     "output_type": "execute_result"
    }
   ],
   "source": [
    "index =0\n",
    "size = pointsOnBoundary.__len__()\n",
    "while index < size -1 :\n",
    "    this = pointsOnBoundary[index]\n",
    "    next = pointsOnBoundary[index+1]\n",
    "    cv2.line(img=copy , pt1= this , pt2=next , color=(0,255,0) , thickness = 1 )\n",
    "    index = index + 1\n",
    "cv2.imwrite(\"final.jpg\",copy)"
   ]
  },
  {
   "cell_type": "markdown",
   "metadata": {},
   "source": [
    "![final](final.jpg)"
   ]
  },
  {
   "cell_type": "markdown",
   "metadata": {},
   "source": [
    "<h1> Testing </h1>\n",
    "Now to test the algorithm on different carotid arteries, here are some results."
   ]
  },
  {
   "cell_type": "markdown",
   "metadata": {},
   "source": [
    "![test1](test1.jpg)"
   ]
  },
  {
   "cell_type": "markdown",
   "metadata": {},
   "source": [
    "![test2](test2.jpg)"
   ]
  },
  {
   "cell_type": "markdown",
   "metadata": {},
   "source": [
    "REFERENCES\n",
    "http://answers.opencv.org/question/56095/draw-lines-from-centroid-of-contour-at-given-angle-till-edge-of-contour/"
   ]
  }
 ],
 "metadata": {
  "kernelspec": {
   "display_name": "Python 3",
   "language": "python",
   "name": "python3"
  },
  "language_info": {
   "codemirror_mode": {
    "name": "ipython",
    "version": 3
   },
   "file_extension": ".py",
   "mimetype": "text/x-python",
   "name": "python",
   "nbconvert_exporter": "python",
   "pygments_lexer": "ipython3",
   "version": "3.5.3"
  }
 },
 "nbformat": 4,
 "nbformat_minor": 2
}
